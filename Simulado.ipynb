{
 "cells": [
  {
   "cell_type": "code",
   "execution_count": 1,
   "id": "3d3f642d",
   "metadata": {},
   "outputs": [],
   "source": [
    "#Ideias para implementação: medir tempo de prova,\n",
    "#fazer programa puxar questões da nuvem, modificar o tamanho dos botões a cada questão,\n",
    "#adicionar botões de play e pause para o timer\n",
    "#deixar usuário escolher o número de questões de hoje, deixar usuário escolher tamanho da fonte das perguntas,\n",
    "#Impedir que as questões se repitam\n",
    "import tkinter as tk\n",
    "from tkinter import messagebox\n",
    "from tkinter import PhotoImage\n",
    "import pandas as pd\n",
    "import random"
   ]
  },
  {
   "cell_type": "code",
   "execution_count": 2,
   "id": "12c0a250",
   "metadata": {},
   "outputs": [],
   "source": [
    "#Carrega o arquivo excel e pega as perguntas aleatoriamente\n",
    "df = pd.read_excel('simulado.xlsx')\n",
    "perguntas = df.sample(n=70).values.tolist() #Aqui é definido o número de questões do simulado\n",
    "\n",
    "pontuacao = 0\n",
    "questao_atual = 0\n",
    "contador = 0\n",
    "resp_erradas = []\n",
    "quest_erradas = []"
   ]
  },
  {
   "cell_type": "code",
   "execution_count": 3,
   "id": "d0997bb9",
   "metadata": {},
   "outputs": [],
   "source": [
    "def verif_resposta(resposta):\n",
    "    global pontuacao, questao_atual, contador, erradas\n",
    "    \n",
    "    if resposta == perguntas[contador][-2]:\n",
    "        pontuacao += 1\n",
    "    else:\n",
    "        quest_erradas.append(contador)\n",
    "        resp_erradas.append(resposta)\n",
    "    \n",
    "    questao_atual += 1\n",
    "    contador += 1\n",
    "    \n",
    "    if questao_atual < len(perguntas):\n",
    "        exibe_pergunta()\n",
    "    else:\n",
    "        mostra_resultado()"
   ]
  },
  {
   "cell_type": "code",
   "execution_count": 4,
   "id": "c622b36a",
   "metadata": {},
   "outputs": [],
   "source": [
    "#Função para exibir próxima pergunta\n",
    "def exibe_pergunta():\n",
    "    global contador, perguntas\n",
    "    questao, op1, op2, op3, op4, op5, resposta, n_alternativas = perguntas[questao_atual]\n",
    "    numero_label.config(text=f'Questão {contador + 1} de {len(perguntas)}')\n",
    "    perguntas_label.config(text=questao)\n",
    "    if n_alternativas == 5:\n",
    "        opcao1_btn.config(text=op1, state=tk.NORMAL, command=lambda: verif_resposta(1))\n",
    "        opcao2_btn.config(text=op2, state=tk.NORMAL, command=lambda: verif_resposta(2))\n",
    "        opcao3_btn.config(text=op3, state=tk.NORMAL, command=lambda: verif_resposta(3))\n",
    "        opcao4_btn.config(text=op4, state=tk.NORMAL, command=lambda: verif_resposta(4))\n",
    "        opcao5_btn.config(text=op5, state=tk.NORMAL, command=lambda: verif_resposta(5))\n",
    "    elif n_alternativas == 4:\n",
    "        opcao1_btn.config(text=op1, state=tk.NORMAL, command=lambda: verif_resposta(1))\n",
    "        opcao2_btn.config(text=op2, state=tk.NORMAL, command=lambda: verif_resposta(2))\n",
    "        opcao3_btn.config(text=op3, state=tk.NORMAL, command=lambda: verif_resposta(3))\n",
    "        opcao4_btn.config(text=op4, state=tk.NORMAL, command=lambda: verif_resposta(4))\n",
    "        opcao5_btn.config(text=op5, state=tk.DISABLED)\n",
    "    else:\n",
    "        opcao1_btn.config(text=op1, state=tk.NORMAL, command=lambda: verif_resposta(1))\n",
    "        opcao2_btn.config(text=op2, state=tk.NORMAL, command=lambda: verif_resposta(2))\n",
    "        opcao3_btn.config(text=op3, state=tk.DISABLED)\n",
    "        opcao4_btn.config(text=op4, state=tk.DISABLED)\n",
    "        opcao5_btn.config(text=op5, state=tk.DISABLED)"
   ]
  },
  {
   "cell_type": "code",
   "execution_count": 5,
   "id": "eed88156",
   "metadata": {},
   "outputs": [],
   "source": [
    "#Função para resultado final\n",
    "def mostra_resultado():\n",
    "    messagebox.showinfo(\"Simulado Finalizado\", f'Parabéns! Você completou a prova.\\n\\nPontuação final: {pontuacao}/{len(perguntas)} ({round(pontuacao/len(perguntas)*100, 2)}%)')\n",
    "    opcao1_btn.config(state=tk.DISABLED)\n",
    "    opcao2_btn.config(state=tk.DISABLED)\n",
    "    opcao3_btn.config(state=tk.DISABLED)\n",
    "    opcao4_btn.config(state=tk.DISABLED)\n",
    "    opcao5_btn.config(state=tk.DISABLED)"
   ]
  },
  {
   "cell_type": "code",
   "execution_count": 6,
   "id": "37eb9e41",
   "metadata": {},
   "outputs": [],
   "source": [
    "#Definindo a janela e suas cores\n",
    "janela = tk.Tk()\n",
    "janela.title('Simulado - Conhecimentos Bancários')\n",
    "janela.geometry('1300x700')\n",
    "background_color = \"#ECECEC\"\n",
    "text_color = \"#333333\"\n",
    "button_color = '#4CAF50'\n",
    "button_text_color = '#FFFFFF'\n",
    "janela.config(bg=background_color)\n",
    "janela.option_add('*Font', 'Arial')\n",
    "app_icon = PhotoImage(file=\"C:/Users/laysl/Downloads/Simulado/banco_do_nordeste.png\")\n",
    "app_label = tk.Label(janela, image=app_icon, bg=background_color)\n",
    "app_label.pack(pady=10)"
   ]
  },
  {
   "cell_type": "code",
   "execution_count": 7,
   "id": "3310ad7d",
   "metadata": {},
   "outputs": [],
   "source": [
    "#Componetes da interface (perguntas e respostas)\n",
    "numero_label = tk.Label(janela, text='', wraplength=1100, bg=background_color, fg=text_color, font=('Arial', 13, \"bold\"))\n",
    "numero_label.pack(pady=20)\n",
    "perguntas_label = tk.Label(janela, text='', wraplength=1000, bg=background_color, fg=text_color, font=('Arial', 15, \"bold\"))\n",
    "perguntas_label.pack(pady=20)\n",
    "resp_correta = tk.IntVar()\n",
    "\n",
    "#Botões com respostas\n",
    "opcao1_btn = tk.Button(janela, text='', width=150, bg=button_color, fg=button_text_color, state=tk.DISABLED, font=('Arial', 13, 'bold'))\n",
    "opcao1_btn.pack(pady=10)\n",
    "\n",
    "opcao2_btn = tk.Button(janela, text='', width=150, bg=button_color, fg=button_text_color, state=tk.DISABLED, font=('Arial', 13, 'bold'))\n",
    "opcao2_btn.pack(pady=10)\n",
    "\n",
    "opcao3_btn = tk.Button(janela, text='', width=150, bg=button_color, fg=button_text_color, state=tk.DISABLED, font=('Arial', 13, 'bold'))\n",
    "opcao3_btn.pack(pady=10)\n",
    "\n",
    "opcao4_btn = tk.Button(janela, text='', width=150, bg=button_color, fg=button_text_color, state=tk.DISABLED, font=('Arial', 13, 'bold'))\n",
    "opcao4_btn.pack(pady=10)\n",
    "\n",
    "opcao5_btn = tk.Button(janela, text='', width=150, bg=button_color, fg=button_text_color, state=tk.DISABLED, font=('Arial', 13, 'bold'))\n",
    "opcao5_btn.pack(pady=10)\n",
    "\n",
    "exibe_pergunta()\n",
    "janela.mainloop()"
   ]
  },
  {
   "cell_type": "code",
   "execution_count": 8,
   "id": "73f12336",
   "metadata": {},
   "outputs": [
    {
     "name": "stdout",
     "output_type": "stream",
     "text": [
      "Pergunta: O Banco Central do Brasil possui natureza de:\n",
      "Sua Resposta: Entidade privada sem fins lucrativos, integrante do Sistema Financeiro Nacional.\n",
      "Resposta Correta: Autarquia federal, integrante do Sistema Financeiro Nacional.\n",
      "\n",
      "\n",
      "Pergunta: A CVM, como autarquia federal à qual compete a fiscalização do mercado de valores mobiliários, tem competência para:\n",
      "Sua Resposta: garantir que operações de interesse do Poder Público sejam aprovadas por sociedades privadas.\n",
      "Resposta Correta: fiscalizar todos os agentes que dele participam.\n",
      "\n",
      "\n",
      "Pergunta: A possibilidade de perda associada ao decréscimo dos ganhos esperados provocado pela deterioração da qualidade creditícia do tomador do crédito é uma situação contemplada no conceito de risco de mercado.\n",
      "Sua Resposta: Certo\n",
      "Resposta Correta: Errado\n",
      "\n",
      "\n",
      "Pergunta: A competência do Conselho Nacional de Seguros Privados (CNSP) em confronto com a da Superintendência de Seguros Privados (SUSEP) evidencia:\n",
      "Sua Resposta: tratar-se de autarquias federal e estadual, respectivamente.\n",
      "Resposta Correta: caber ao CNSP estabelecer as diretrizes aplicáveis aos seguros privados sendo a SUSEP órgão executivo.\n",
      "\n",
      "\n",
      "Pergunta: A principal característica que distingue um banco de investimento de um banco de desenvolvimento é que, diferentemente do primeiro, um banco de desenvolvimento\n",
      "Sua Resposta: é, geralmente, de capital privado, constituído sob a forma de sociedade anônima, e se especializa em operações de participação societária de caráter temporário e de\n",
      "financiamento de investimentos.\n",
      "Resposta Correta: é, geralmente, de capital público e objetiva financiar projetos de investimento orientados para o desenvolvimento econômico e social de uma região ou país.\n",
      "\n",
      "\n",
      "Pergunta: O crédito direto ao consumidor é uma modalidade destinada exclusivamente à compra de bens imóveis comerciais e residenciais, e seus principais clientes são as pessoas físicas.\n",
      "Sua Resposta: Certo\n",
      "Resposta Correta: Errado\n",
      "\n",
      "\n",
      "Pergunta: A cédula de crédito industrial é uma promessa de pagamento em dinheiro sem garantia real, ao passo que a nota de crédito industrial é uma promessa de pagamento em dinheiro com garantia real.\n",
      "Sua Resposta: Certo\n",
      "Resposta Correta: Errado\n",
      "\n",
      "\n",
      "Pergunta: A previdência social brasileira oferece menos benefícios do que planos de previdência existentes no mercado privado\n",
      "Sua Resposta: Certo\n",
      "Resposta Correta: Errado\n",
      "\n",
      "\n",
      "Pergunta: Qual é a principal função da Superintendência Nacional de Previdência Complementar (Previc)?\n",
      "Sua Resposta: Regulamentar o mercado de previdência aberta\n",
      "Resposta Correta: Fiscalizar e supervisionar as atividades das entidades fechadas de previdência complementar\n",
      "\n",
      "\n"
     ]
    }
   ],
   "source": [
    "for i in range(len(quest_erradas)):\n",
    "    print(f'Pergunta: {perguntas[quest_erradas[i]][0]}\\nSua Resposta: {perguntas[quest_erradas[i]][resp_erradas[i]]}\\nResposta Correta: {perguntas[quest_erradas[i]][perguntas[quest_erradas[i]][-2]]}\\n\\n')"
   ]
  }
 ],
 "metadata": {
  "kernelspec": {
   "display_name": "Python 3 (ipykernel)",
   "language": "python",
   "name": "python3"
  },
  "language_info": {
   "codemirror_mode": {
    "name": "ipython",
    "version": 3
   },
   "file_extension": ".py",
   "mimetype": "text/x-python",
   "name": "python",
   "nbconvert_exporter": "python",
   "pygments_lexer": "ipython3",
   "version": "3.9.13"
  }
 },
 "nbformat": 4,
 "nbformat_minor": 5
}
