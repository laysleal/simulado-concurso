{
 "cells": [
  {
   "cell_type": "code",
   "execution_count": 1,
   "id": "fe6fb16b",
   "metadata": {},
   "outputs": [
    {
     "name": "stdout",
     "output_type": "stream",
     "text": [
      "Perguntas inseridas com sucesso\n"
     ]
    }
   ],
   "source": [
    "import pandas as pd\n",
    "\n",
    "questions = [\n",
    "    [\"Qual é a capital da França?\", \"Paris\", \"Londres\", \"Berlim\", \"Roma\", 1],\n",
    "    [\"Qual é o resultado de 8 + 5?\", \"12\", \"13\", \"15\", \"18\", 2],\n",
    "    [\"Quem pintou a Mona Lisa?\", \"Picasso\", \"Da Vinci\", \"Van Gogh\", \"Warhol\", 2],\n",
    "    [\"Quanto é 6 multiplicado por 7?\", \"36\", \"42\", \"48\", \"54\", 2],\n",
    "    [\"Qual é o maior planeta do sistema solar?\", \"Marte\", \"Saturno\", \"Júpiter\", \"Vênus\", 3],\n",
    "    [\"Quem escreveu a obra 'Dom Quixote'?\", \"Machado de Assis\", \"Miguel de Cervantes\", \"Jorge Luis Borges\", \"Gabriel García Márquez\", 2],\n",
    "    [\"Qual é a fórmula química da água?\", \"H2O\", \"CO2\", \"NaCl\", \"CH4\", 1],\n",
    "    [\"Quem foi o primeiro presidente dos Estados Unidos?\", \"George Washington\", \"Abraham Lincoln\", \"Thomas Jefferson\", \"John F. Kennedy\", 1],\n",
    "    [\"Qual é o resultado de 4 ao cubo?\", \"16\", \"32\", \"64\", \"128\", 3],\n",
    "    [\"Qual é a capital da Rússia?\", \"Moscou\", \"São Petersburgo\", \"Kiev\", \"Varsóvia\", 1],\n",
    "    [\"Quem descobriu a teoria da relatividade?\", \"Isaac Newton\", \"Galileu Galilei\", \"Albert Einstein\", \"Nikola Tesla\", 3],\n",
    "    [\"Qual é o símbolo químico do ouro?\", \"Au\", \"Ag\", \"Cu\", \"Fe\", 1],\n",
    "    [\"Quem foi o autor da obra 'Romeu e Julieta'?\", \"William Shakespeare\", \"Charles Dickens\", \"Mark Twain\", \"Jane Austen\", 1],\n",
    "    [\"Qual é a capital do Brasil?\", \"Rio de Janeiro\", \"Brasília\", \"São Paulo\", \"Salvador\", 2],\n",
    "    [\"Qual é o resultado de 9 dividido por 3?\", \"1\", \"2\", \"3\", \"4\", 3],\n",
    "    [\"Quem pintou a obra 'A Noite Estrelada'?\", \"Leonardo da Vinci\", \"Michelangelo\", \"Salvador Dalí\", \"Vincent van Gogh\", 4],\n",
    "    [\"Qual é o maior oceano do mundo?\", \"Atlântico\", \"Índico\", \"Pacífico\", \"Ártico\", 3],\n",
    "    [\"Qual é o resultado de 2 elevado a 8?\", \"8\", \"16\", \"64\", \"256\", 4],\n",
    "    [\"Quem escreveu a obra '1984'?\", \"George Orwell\", \"Aldous Huxley\", \"Ernest Hemingway\", \"F. Scott Fitzgerald\", 1],\n",
    "    [\"Qual é o resultado de 15 menos 7?\", \"5\", \"6\", \"7\", \"8\", 3],\n",
    "    [\"Quem foi o pintor do quadro 'A Última Ceia'?\", \"Pablo Picasso\", \"Salvador Dalí\", \"Michelangelo\", \"Leonardo da Vinci\", 4]\n",
    "]\n",
    "\n",
    "df =  pd.DataFrame(questions, columns=[\"Perguntas\", \"Op1\", \"Op2\", \"Op3\", \"Op4\", \"Resposta\"])\n",
    "\n",
    "df.to_excel('simulado.xlsx', index=False)\n",
    "\n",
    "print('Perguntas inseridas com sucesso')"
   ]
  },
  {
   "cell_type": "code",
   "execution_count": null,
   "id": "9ee515c5",
   "metadata": {},
   "outputs": [],
   "source": []
  }
 ],
 "metadata": {
  "kernelspec": {
   "display_name": "Python 3 (ipykernel)",
   "language": "python",
   "name": "python3"
  },
  "language_info": {
   "codemirror_mode": {
    "name": "ipython",
    "version": 3
   },
   "file_extension": ".py",
   "mimetype": "text/x-python",
   "name": "python",
   "nbconvert_exporter": "python",
   "pygments_lexer": "ipython3",
   "version": "3.9.13"
  }
 },
 "nbformat": 4,
 "nbformat_minor": 5
}
